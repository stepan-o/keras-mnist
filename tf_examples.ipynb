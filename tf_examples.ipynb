{
 "cells": [
  {
   "cell_type": "markdown",
   "source": [
    "# TensorFlow examples"
   ],
   "metadata": {
    "collapsed": false,
    "pycharm": {
     "name": "#%% md\n"
    }
   }
  },
  {
   "cell_type": "code",
   "execution_count": 12,
   "metadata": {
    "collapsed": true,
    "pycharm": {
     "is_executing": false
    }
   },
   "outputs": [
    {
     "name": "stdout",
     "text": [
      "TensorFlow version: 1.15.0\n"
     ],
     "output_type": "stream"
    }
   ],
   "source": [
    "import numpy as np\n",
    "import matplotlib.pyplot as plt\n",
    "import tensorflow as tf\n",
    "print(\"TensorFlow version: {0}\".format(tf.__version__))"
   ]
  },
  {
   "cell_type": "markdown",
   "source": [
    "## Simple calculation\n",
    "$ z = w \\times x + b $ "
   ],
   "metadata": {
    "collapsed": false,
    "pycharm": {
     "name": "#%% md\n"
    }
   }
  },
  {
   "cell_type": "code",
   "execution_count": 2,
   "outputs": [
    {
     "name": "stdout",
     "text": [
      "x=1.0 --> z=2.7\nx=0.6 --> z=1.9\nx=-1.8 --> z=-2.9\n"
     ],
     "output_type": "stream"
    }
   ],
   "source": [
    "# create a graph\n",
    "g1 = tf.Graph()\n",
    "with g1.as_default():\n",
    "    x = tf.placeholder(dtype=tf.float32,\n",
    "                       shape=(None), name='x')\n",
    "    w = tf.Variable(2.0, name='weight')\n",
    "    b = tf.Variable(0.7, name='bias')\n",
    "    \n",
    "    z = w * x + b\n",
    "    \n",
    "    init = tf.global_variables_initializer()\n",
    "\n",
    "# create a session and pass in a graph g\n",
    "with tf.Session(graph=g1) as sess:\n",
    "    # initialize w and b:\n",
    "    sess.run(init)\n",
    "    # evaluate z:\n",
    "    for t in [1.0, 0.6, -1.8]:\n",
    "        print('x={0:.1f} --> z={1:.1f}'.format(t, sess.run(z, feed_dict={x:t})))"
   ],
   "metadata": {
    "collapsed": false,
    "pycharm": {
     "name": "#%%\n",
     "is_executing": false
    }
   }
  },
  {
   "cell_type": "markdown",
   "source": [
    "## Reshape rank-3 tensor, compute column sums and means"
   ],
   "metadata": {
    "collapsed": false,
    "pycharm": {
     "name": "#%% md\n"
    }
   }
  },
  {
   "cell_type": "code",
   "execution_count": 5,
   "outputs": [
    {
     "name": "stdout",
     "text": [
      "Input tensor:\n[[[ 0  1  2]\n  [ 3  4  5]]\n\n [[ 6  7  8]\n  [ 9 10 11]]\n\n [[12 13 14]\n  [15 16 17]]]\nInput shape:\n(3, 2, 3)\nReshaped:\n[[ 0.  1.  2.  3.  4.  5.]\n [ 6.  7.  8.  9. 10. 11.]\n [12. 13. 14. 15. 16. 17.]]\nReshaped shape\n(3, 6):\nColumn sums:\n[18. 21. 24. 27. 30. 33.]\nColumn means:\n[ 6.  7.  8.  9. 10. 11.]\n"
     ],
     "output_type": "stream"
    }
   ],
   "source": [
    "g2 = tf.Graph()\n",
    "with g2.as_default():\n",
    "    # input tensor\n",
    "    x = tf.placeholder(dtype=tf.float32,\n",
    "                       shape=(None, 2, 3),\n",
    "                       name='input_x')\n",
    "    # reshape input\n",
    "    x2 = tf.reshape(x, shape=(-1, 6), name='x2')\n",
    "    # calculate the sum of each column\n",
    "    xsum = tf.reduce_sum(x2, axis=0, name='col_sum')\n",
    "    # calculate the mean of each column\n",
    "    xmean = tf.reduce_mean(x2, axis=0, name='col_mean')\n",
    "\n",
    "with tf.Session(graph=g2) as sess:\n",
    "    x_array = np.arange(18).reshape(3, 2, 3)\n",
    "    print(\"Input tensor:\\n{0}\\nInput shape:\\n{1}\".format(x_array, x_array.shape))\n",
    "    x_resh = sess.run(x2, feed_dict={x:x_array})\n",
    "    print(\"Reshaped:\\n{0}\\nReshaped shape\\n{1}:\".format(x_resh, x_resh.shape))\n",
    "    print(\"Column sums:\\n{0}\".format(sess.run(xsum, feed_dict={x:x_array})))\n",
    "    print(\"Column means:\\n{0}\".format(sess.run(xmean, feed_dict={x:x_array})))"
   ],
   "metadata": {
    "collapsed": false,
    "pycharm": {
     "name": "#%%\n",
     "is_executing": false
    }
   }
  },
  {
   "cell_type": "markdown",
   "source": [
    "## Ordinary Least Squares (OLS) regression\n",
    "Implementing a simple Ordinary Least Squares (OLD) OLS regression model:\n",
    "\n",
    "$ z = w \\times x + b $\n",
    "\n",
    "using the Mean of Squared Error (MSE) cost function:\n",
    "\n",
    "$ MSE = \\frac{1} {n} \\sum \\limits_{i=1}^n \\left( y_i - \\hat{y}_i \\right) ^2 $"
   ],
   "metadata": {
    "collapsed": false,
    "pycharm": {
     "name": "#%% md\n"
    }
   }
  },
  {
   "cell_type": "markdown",
   "source": [
    "### Define the model"
   ],
   "metadata": {
    "collapsed": false,
    "pycharm": {
     "name": "#%% md\n"
    }
   }
  },
  {
   "cell_type": "code",
   "execution_count": 8,
   "outputs": [],
   "source": [
    "class TfLinreg(object):\n",
    "    def __init__(self, x_dim, learning_rate=0.01, random_seed=None):\n",
    "        self.x_dim = x_dim\n",
    "        self.learning_rate = learning_rate\n",
    "        self.g = tf.Graph()\n",
    "        # build the model\n",
    "        with self.g.as_default():\n",
    "            # set graph-level random seed\n",
    "            tf.set_random_seed(random_seed)\n",
    "            \n",
    "            self.build()\n",
    "            # create initializer\n",
    "            self.init_op = tf.global_variables_initializer()\n",
    "    \n",
    "    def build(self):\n",
    "        # define placeholders for inputs\n",
    "        self.X = tf.placeholder(dtype=tf.float32,\n",
    "                                shape=(None),\n",
    "                                name='x_input')\n",
    "        self.y = tf.placeholder(dtype=tf.float32,\n",
    "                                shape=(None),\n",
    "                                name='y_input')\n",
    "        print(self.X)\n",
    "        print(self.y)\n",
    "        # define weight matrix and bias vector\n",
    "        w = tf.Variable(tf.zeros(shape=(1)), name='weight')\n",
    "        b = tf.Variable(tf.zeros(shape=(1)), name='bias')\n",
    "        print(w)\n",
    "        print(b)\n",
    "        \n",
    "        self.z_net = tf.squeeze(w * self.X + b, name='z_net')\n",
    "        print(self.z_net)\n",
    "        # compute squared errors\n",
    "        sqr_errors = tf.square(self.y - self.z_net, name='sqr_errors')\n",
    "        print(sqr_errors)\n",
    "        # compute mean cost\n",
    "        self.mean_cost = tf.reduce_mean(sqr_errors, name='mean_cost')\n",
    "        \n",
    "        optimizer = tf.train.GradientDescentOptimizer(\n",
    "            learning_rate=self.learning_rate,\n",
    "            name = 'GradientDescent'\n",
    "        )\n",
    "        \n",
    "        self.optimizer = optimizer.minimize(self.mean_cost)\n",
    "        "
   ],
   "metadata": {
    "collapsed": false,
    "pycharm": {
     "name": "#%%\n",
     "is_executing": false
    }
   }
  },
  {
   "cell_type": "markdown",
   "source": [
    "### Train the model"
   ],
   "metadata": {
    "collapsed": false,
    "pycharm": {
     "name": "#%% md\n"
    }
   }
  },
  {
   "cell_type": "code",
   "execution_count": 9,
   "outputs": [
    {
     "name": "stdout",
     "text": [
      "Tensor(\"x_input:0\", dtype=float32)\nTensor(\"y_input:0\", dtype=float32)\n",
      "<tf.Variable 'weight:0' shape=(1,) dtype=float32_ref>\n<tf.Variable 'bias:0' shape=(1,) dtype=float32_ref>\nNet input: Tensor(\"z_net:0\", dtype=float32)\nSquared errors: Tensor(\"sqr_errors:0\", dtype=float32)\n"
     ],
     "output_type": "stream"
    }
   ],
   "source": [
    "X_train = np.arange(10).reshape((10, 1))\n",
    "y_train = np.array([1.0, 1.3, 3.1,\n",
    "                   2.0, 5.0, 6.3,\n",
    "                   6.6, 7.4, 8.0, 9.0])\n",
    "       \n",
    "lrmodel = TfLinreg(x_dim=X_train.shape[1], learning_rate=0.01)"
   ],
   "metadata": {
    "collapsed": false,
    "pycharm": {
     "name": "#%%\n",
     "is_executing": false
    }
   }
  },
  {
   "cell_type": "code",
   "execution_count": 10,
   "outputs": [],
   "source": [
    "def train_linreg(sess, model, X_train, y_train, num_epochs=10):\n",
    "    # initialize all variables: W and b\n",
    "    sess.run(model.init_op)\n",
    "    \n",
    "    training_costs = []\n",
    "    for i in range(num_epochs):\n",
    "        _, cost = sess.run([model.optimizer, model.mean_cost],\n",
    "                           feed_dict={model.X: X_train,\n",
    "                                      model.y: y_train})\n",
    "        training_costs.append(cost)\n",
    "    \n",
    "    return training_costs"
   ],
   "metadata": {
    "collapsed": false,
    "pycharm": {
     "name": "#%%\n",
     "is_executing": false
    }
   }
  },
  {
   "cell_type": "code",
   "execution_count": 11,
   "outputs": [
    {
     "name": "stdout",
     "text": [
      "Model fit\n"
     ],
     "output_type": "stream"
    }
   ],
   "source": [
    "sess = tf.Session(graph=lrmodel.g)\n",
    "training_costs = train_linreg(sess, lrmodel, X_train, y_train)\n",
    "print(\"Model fit\")"
   ],
   "metadata": {
    "collapsed": false,
    "pycharm": {
     "name": "#%%\n",
     "is_executing": false
    }
   }
  },
  {
   "cell_type": "code",
   "execution_count": 13,
   "outputs": [
    {
     "data": {
      "text/plain": "<Figure size 432x288 with 1 Axes>",
      "image/png": "[encoded data removed]"
     },
     "metadata": {
      "needs_background": "light"
     },
     "output_type": "display_data"
    }
   ],
   "source": [
    "plt.plot(range(1,len(training_costs) + 1), training_costs)\n",
    "plt.tight_layout()\n",
    "plt.xlabel('Epoch')\n",
    "plt.ylabel('Training Cost')\n",
    "plt.show()"
   ],
   "metadata": {
    "collapsed": false,
    "pycharm": {
     "name": "#%%\n",
     "is_executing": false
    }
   }
  },
  {
   "cell_type": "markdown",
   "source": [
    "### Use the model to make predictions"
   ],
   "metadata": {
    "collapsed": false,
    "pycharm": {
     "name": "#%% md\n"
    }
   }
  },
  {
   "cell_type": "code",
   "execution_count": 14,
   "outputs": [],
   "source": [
    "def predict_linreg(sess, model, X_test):\n",
    "    y_pred = sess.run(model.z_net, feed_dict={model.X: X_test})\n",
    "    return y_pred"
   ],
   "metadata": {
    "collapsed": false,
    "pycharm": {
     "name": "#%%\n",
     "is_executing": false
    }
   }
  },
  {
   "cell_type": "code",
   "execution_count": 15,
   "outputs": [
    {
     "data": {
      "text/plain": "<Figure size 432x288 with 1 Axes>",
      "image/png": "[encoded data removed]"
     },
     "metadata": {
      "needs_background": "light"
     },
     "output_type": "display_data"
    }
   ],
   "source": [
    "plt.scatter(X_train, y_train,\n",
    "            marker='s', s=50,\n",
    "            label='Training Data')\n",
    "plt.plot(range(X_train.shape[0]),\n",
    "         predict_linreg(sess, lrmodel, X_train),\n",
    "         color='gray', marker='o',\n",
    "         markersize=6, linewidth=3,\n",
    "         label='LinReg Model')\n",
    "plt.xlabel('x')\n",
    "plt.ylabel('y')\n",
    "plt.legend()\n",
    "plt.tight_layout()\n",
    "plt.show()\n"
   ],
   "metadata": {
    "collapsed": false,
    "pycharm": {
     "name": "#%%\n",
     "is_executing": false
    }
   }
  }
 ],
 "metadata": {
  "kernelspec": {
   "display_name": "Python 3",
   "language": "python",
   "name": "python3"
  },
  "language_info": {
   "codemirror_mode": {
    "name": "ipython",
    "version": 2
   },
   "file_extension": ".py",
   "mimetype": "text/x-python",
   "name": "python",
   "nbconvert_exporter": "python",
   "pygments_lexer": "ipython2",
   "version": "2.7.6"
  },
  "pycharm": {
   "stem_cell": {
    "cell_type": "raw",
    "source": [],
    "metadata": {
     "collapsed": false
    }
   }
  }
 },
 "nbformat": 4,
 "nbformat_minor": 0
}