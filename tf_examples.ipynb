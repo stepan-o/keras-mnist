{
 "cells": [
  {
   "cell_type": "markdown",
   "metadata": {
    "pycharm": {
     "name": "#%% md\n"
    }
   },
   "source": [
    "# TensorFlow examples"
   ]
  },
  {
   "cell_type": "code",
   "execution_count": 1,
   "metadata": {
    "pycharm": {
     "is_executing": false
    }
   },
   "outputs": [
    {
     "name": "stdout",
     "output_type": "stream",
     "text": [
      "TensorFlow version: 1.15.0\n"
     ]
    }
   ],
   "source": [
    "import numpy as np\n",
    "import matplotlib.pyplot as plt\n",
    "import tensorflow as tf\n",
    "print(\"TensorFlow version: {0}\".format(tf.__version__))"
   ]
  },
  {
   "cell_type": "markdown",
   "metadata": {
    "pycharm": {
     "name": "#%% md\n"
    }
   },
   "source": [
    "## Simple calculation"
   ]
  },
  {
   "cell_type": "markdown",
   "metadata": {},
   "source": [
    "### $ z = 2 \\times (a - b) + c $"
   ]
  },
  {
   "cell_type": "code",
   "execution_count": 3,
   "metadata": {},
   "outputs": [
    {
     "name": "stdout",
     "output_type": "stream",
     "text": [
      "2*(a-b) + c =>  1\n"
     ]
    }
   ],
   "source": [
    "g = tf.Graph()\n",
    "\n",
    "with g.as_default():\n",
    "    a = tf.constant(1, name='a')\n",
    "    b = tf.constant(2, name='b')\n",
    "    c = tf.constant(3, name='c')\n",
    "    \n",
    "    z = 2 * (a - b) + c\n",
    "\n",
    "with tf.Session(graph=g) as sess:\n",
    "    print('2*(a-b) + c => ', sess.run(z))"
   ]
  },
  {
   "cell_type": "markdown",
   "metadata": {},
   "source": [
    "### Using placeholders"
   ]
  },
  {
   "cell_type": "code",
   "execution_count": 9,
   "metadata": {},
   "outputs": [
    {
     "name": "stdout",
     "output_type": "stream",
     "text": [
      "2*(a-b) + c =>  1\n"
     ]
    }
   ],
   "source": [
    "g = tf.Graph()\n",
    "with g.as_default():\n",
    "    tf_a = tf.placeholder(tf.int32, shape=[],\n",
    "                          name='tf_a')\n",
    "    tf_b = tf.placeholder(tf.int32, shape=[],\n",
    "                          name='tf_b')\n",
    "    tf_c = tf.placeholder(tf.int32, shape=[],\n",
    "                          name='tf_c')\n",
    "    \n",
    "    r1 = tf_a - tf_b\n",
    "    r2 = 2 * r1\n",
    "    z = r2 + tf_c\n",
    "\n",
    "with tf.Session(graph=g) as sess:\n",
    "    # TensorFlow requires tensor name to be in \"op_name:output_index\" format\n",
    "    feed = {'tf_a:0': 1, 'tf_b:0': 2, 'tf_c:0': 3}\n",
    "    print('2*(a-b) + c => ', sess.run(z, feed_dict=feed))"
   ]
  },
  {
   "cell_type": "markdown",
   "metadata": {},
   "source": [
    "### $ z = w \\times x + b $ "
   ]
  },
  {
   "cell_type": "code",
   "execution_count": 2,
   "metadata": {
    "pycharm": {
     "is_executing": false,
     "name": "#%%\n"
    }
   },
   "outputs": [
    {
     "name": "stdout",
     "output_type": "stream",
     "text": [
      "x=1.0 --> z=2.7\n",
      "x=0.6 --> z=1.9\n",
      "x=-1.8 --> z=-2.9\n"
     ]
    }
   ],
   "source": [
    "# create a graph\n",
    "g1 = tf.Graph()\n",
    "with g1.as_default():\n",
    "    x = tf.placeholder(dtype=tf.float32,\n",
    "                       shape=(None), name='x')\n",
    "    w = tf.Variable(2.0, name='weight')\n",
    "    b = tf.Variable(0.7, name='bias')\n",
    "    \n",
    "    z = w * x + b\n",
    "    \n",
    "    init = tf.global_variables_initializer()\n",
    "\n",
    "# create a session and pass in a graph g\n",
    "with tf.Session(graph=g1) as sess:\n",
    "    # initialize w and b:\n",
    "    sess.run(init)\n",
    "    # evaluate z:\n",
    "    for t in [1.0, 0.6, -1.8]:\n",
    "        print('x={0:.1f} --> z={1:.1f}'.format(t, sess.run(z, feed_dict={x:t})))"
   ]
  },
  {
   "cell_type": "markdown",
   "metadata": {},
   "source": [
    "## Get rank and shape of a tensor"
   ]
  },
  {
   "cell_type": "code",
   "execution_count": 2,
   "metadata": {},
   "outputs": [
    {
     "name": "stdout",
     "output_type": "stream",
     "text": [
      "Shapes: () (4,) (2, 2)\n",
      "Ranks: 0 1 2\n"
     ]
    }
   ],
   "source": [
    "g = tf.Graph()\n",
    "\n",
    "## define the computation graph\n",
    "with g.as_default():\n",
    "    ## define tensors t1, t2, t3\n",
    "    t1 = tf.constant(np.pi)\n",
    "    t2 = tf.constant([1, 2, 3, 4])\n",
    "    t3 = tf.constant([[1, 2], [3, 4]])\n",
    "\n",
    "    ## get their ranks\n",
    "    r1 = tf.rank(t1)\n",
    "    r2 = tf.rank(t2)\n",
    "    r3 = tf.rank(t3)\n",
    "\n",
    "    ## get their shapes\n",
    "    s1 = t1.get_shape()\n",
    "    s2 = t2.get_shape()\n",
    "    s3 = t3.get_shape()\n",
    "    print('Shapes:', s1, s2, s3)\n",
    "\n",
    "with tf.Session(graph=g) as sess:\n",
    "    print('Ranks:',\n",
    "          r1.eval(),\n",
    "          r2.eval(),\n",
    "          r3.eval())"
   ]
  },
  {
   "cell_type": "markdown",
   "metadata": {},
   "source": [
    "## Placeholders for data arrays with varying batch sizes"
   ]
  },
  {
   "cell_type": "code",
   "execution_count": 14,
   "metadata": {},
   "outputs": [
    {
     "name": "stdout",
     "output_type": "stream",
     "text": [
      "Tensor(\"tf_x:0\", shape=(?, 2), dtype=float32)\n"
     ]
    }
   ],
   "source": [
    "g = tf.Graph()\n",
    "\n",
    "with g.as_default():\n",
    "    tf_x = tf.placeholder(tf.float32,\n",
    "                          shape=[None, 2],\n",
    "                          name='tf_x')\n",
    "    print(tf_x)"
   ]
  },
  {
   "cell_type": "code",
   "execution_count": 2,
   "metadata": {
    "pycharm": {
     "is_executing": false
    }
   },
   "outputs": [
    {
     "name": "stdout",
     "output_type": "stream",
     "text": [
      "Feeding data with shape  (5, 2)\n",
      "[[0.7  0.29]\n",
      " [0.23 0.55]\n",
      " [0.72 0.42]\n",
      " [0.98 0.68]\n",
      " [0.48 0.39]]\n",
      "Result: [0.62 0.47]\n",
      "Feeding data with shape (10, 2)\n",
      "[[0.34 0.73]\n",
      " [0.44 0.06]\n",
      " [0.4  0.74]\n",
      " [0.18 0.18]\n",
      " [0.53 0.53]\n",
      " [0.63 0.85]\n",
      " [0.72 0.61]\n",
      " [0.72 0.32]\n",
      " [0.36 0.23]\n",
      " [0.29 0.63]]\n",
      "Result: [0.46 0.49]\n"
     ]
    }
   ],
   "source": [
    "g = tf.Graph()\n",
    "\n",
    "with g.as_default():\n",
    "    tf_x = tf.placeholder(tf.float32,\n",
    "                          shape=[None, 2],\n",
    "                          name='tf_x')\n",
    "    x_mean = tf.reduce_mean(tf_x,\n",
    "                            axis=0,\n",
    "                            name='mean')\n",
    "\n",
    "np.random.seed(123)\n",
    "np.set_printoptions(precision=2)\n",
    "with tf.Session(graph=g) as sess:\n",
    "    x1 = np.random.uniform(low=0, high=1, size=(5, 2))\n",
    "    print('Feeding data with shape ', x1.shape)\n",
    "    print(x1)\n",
    "    print('Result:', sess.run(x_mean, feed_dict={tf_x: x1}))\n",
    "\n",
    "    x2 = np.random.uniform(low=0, high=1, size=(10,2))\n",
    "    print('Feeding data with shape', x2.shape)\n",
    "    print(x2)\n",
    "    print('Result:', sess.run(x_mean, feed_dict={tf_x: x2}))"
   ]
  },
  {
   "cell_type": "markdown",
   "metadata": {},
   "source": [
    "## Using variables\n",
    "TensorFlow variables store the parameters of a model that can be updated during training, for example, the weights in the input, hidden, and output layers of a neural network. When we define a variable, we need to initialize it with a tensor of values.\n",
    "\n",
    "`tf.Variable` is a class that creates an object for a new variable and adds it to the graph. Note that `tf.Variable` does not have an explicit way to determine `shape` and `dtype`; the shape and type are set to be the same as those of the initial values."
   ]
  },
  {
   "cell_type": "code",
   "execution_count": 19,
   "metadata": {},
   "outputs": [
    {
     "name": "stdout",
     "output_type": "stream",
     "text": [
      "<tf.Variable 'w:0' shape=(2, 4) dtype=int64_ref>\n"
     ]
    }
   ],
   "source": [
    "g = tf.Graph()\n",
    "\n",
    "with g.as_default():\n",
    "    w = tf.Variable(np.array([[1, 2, 3, 4],\n",
    "                              [5, 6, 7, 8]]), name='w')\n",
    "    print(w)"
   ]
  },
  {
   "cell_type": "markdown",
   "metadata": {},
   "source": [
    "Tensors defined as variables are not allocated in memory and contain no values until they are initialized. Therefore, before executing any node in the computation graph, we **must** initialize the variables that are within the path to the node that we want to execute. This initialization process refers to allocating memory for the associated tensors and assigning their initial values."
   ]
  },
  {
   "cell_type": "code",
   "execution_count": 22,
   "metadata": {},
   "outputs": [
    {
     "name": "stdout",
     "output_type": "stream",
     "text": [
      "[[1 2 3 4]\n",
      " [5 6 7 8]]\n"
     ]
    }
   ],
   "source": [
    "with tf.Session(graph=g) as sess:\n",
    "    sess.run(tf.global_variables_initializer())\n",
    "    print(sess.run(w))"
   ]
  },
  {
   "cell_type": "markdown",
   "metadata": {},
   "source": [
    "The second option, `tf.get_variable`, can be used to reuse an existing variable with a given name (if the name exists in the graph) or create a new one if the name does not exist. In this case, the name becomes critical; that's probably why it has to be placed as the first argument to this function. Furthermore, `tf.get_variable` provides an explicit way to set `shape` and `dtype`; these parameters are only required when creating a new variable, not reusing existing ones.\n",
    "\n",
    "The advantage of `tf.get_variable` over `tf.Variable` is twofold: `tf.get_variable` allows us to reuse existing variables, and it already uses the popular Xavier/Glorot initialization scheme by default.\n",
    "\n",
    "Besides the initializer, the `get_variable` function provides other parameters to control the tensor, such as adding a regularizer for the variable."
   ]
  },
  {
   "cell_type": "code",
   "execution_count": 6,
   "metadata": {},
   "outputs": [
    {
     "name": "stdout",
     "output_type": "stream",
     "text": [
      "Global variables: [<tf.Variable 'first_variable:0' shape=(1, 3) dtype=float32_ref>, <tf.Variable 'second_variable:0' shape=(1, 2) dtype=int32_ref>]\n",
      "\n",
      "First variable: [[ 0.34479332 -0.03582692 -0.8984345 ]]\n",
      "Second variable: [[4 5]]\n"
     ]
    }
   ],
   "source": [
    "g = tf.Graph()\n",
    "# create a new graph\n",
    "with g.as_default():\n",
    "    # variable initialized randomly\n",
    "    var1 = tf.get_variable(\"first_variable\", shape=[1,3], dtype=tf.float32)\n",
    "    \n",
    "    # variable initialized with constant values\n",
    "    init_val = np.array([4, 5])\n",
    "    var2 = tf.get_variable(\"second_variable\", shape=[1, 2], dtype=tf.int32,\n",
    "                           initializer=tf.constant_initializer(init_val))\n",
    "\n",
    "# create session\n",
    "with tf.Session(graph=g) as sess:\n",
    "    # initialize all variables\n",
    "    sess.run(tf.global_variables_initializer())\n",
    "    print(\"Global variables:\", tf.global_variables())\n",
    "    print(\"\\nFirst variable:\", sess.run(var1))\n",
    "    print(\"Second variable:\", sess.run(var2))"
   ]
  },
  {
   "cell_type": "markdown",
   "metadata": {},
   "source": [
    "## Variable scope"
   ]
  },
  {
   "cell_type": "code",
   "execution_count": 23,
   "metadata": {},
   "outputs": [
    {
     "name": "stdout",
     "output_type": "stream",
     "text": [
      "<tf.Variable 'net_A/layer-1/weights:0' shape=(10, 4) dtype=float32_ref>\n",
      "<tf.Variable 'net_A/layer-2/weights:0' shape=(20, 10) dtype=float32_ref>\n",
      "<tf.Variable 'net_B/layer-1/weights:0' shape=(10, 4) dtype=float32_ref>\n"
     ]
    }
   ],
   "source": [
    "g = tf.Graph()\n",
    "\n",
    "with g.as_default():\n",
    "    with tf.variable_scope('net_A'):\n",
    "        with tf.variable_scope('layer-1'):\n",
    "            w1 = tf.Variable(tf.random_normal(shape=(10,4)), name='weights')\n",
    "        with tf.variable_scope('layer-2'):\n",
    "            w2 = tf.Variable(tf.random_normal(shape=(20,10)), name='weights')\n",
    "    with tf.variable_scope('net_B'):\n",
    "        with tf.variable_scope('layer-1'):\n",
    "            w3 = tf.Variable(tf.random_normal(shape=(10,4)), name='weights')\n",
    "    \n",
    "    print(w1)\n",
    "    print(w2)\n",
    "    print(w3)"
   ]
  },
  {
   "cell_type": "markdown",
   "metadata": {},
   "source": [
    "## Reusing variables"
   ]
  },
  {
   "cell_type": "code",
   "execution_count": 25,
   "metadata": {},
   "outputs": [],
   "source": [
    "###########################\n",
    "##   Helper functions    ##\n",
    "###########################\n",
    " \n",
    "def build_classifier(data, labels, n_classes=2):\n",
    "    data_shape = data.get_shape().as_list()\n",
    "    weights = tf.get_variable(name='weights',\n",
    "                              shape=(data_shape[1],\n",
    "                                     n_classes),\n",
    "                              dtype=tf.float32)\n",
    "    bias = tf.get_variable(name='bias',\n",
    "                           initializer=tf.zeros(shape=n_classes))\n",
    "    logits = tf.add(tf.matmul(data, weights),\n",
    "                    bias,\n",
    "                    name='logits')\n",
    "    return logits, tf.nn.softmax(logits)\n",
    "\n",
    "\n",
    "def build_generator(data, n_hidden):\n",
    "    data_shape = data.get_shape().as_list()\n",
    "    w1 = tf.Variable(tf.random_normal(shape=(data_shape[1], \n",
    "                                             n_hidden)),\n",
    "                     name='w1')\n",
    "    b1 = tf.Variable(tf.zeros(shape=n_hidden),\n",
    "                     name='b1')\n",
    "    hidden = tf.add(tf.matmul(data, w1), b1,\n",
    "                    name='hidden_pre-activation')\n",
    "    hidden = tf.nn.relu(hidden, 'hidden_activation')\n",
    "    \n",
    "    w2 = tf.Variable(tf.random_normal(shape=(n_hidden,\n",
    "                                             data_shape[1])),\n",
    "                     name='w2')\n",
    "    b2 = tf.Variable(tf.zeros(shape=data_shape[1]),\n",
    "                     name='b2')\n",
    "    output = tf.add(tf.matmul(hidden, w2), b2,\n",
    "                    name = 'output')\n",
    "    return output, tf.nn.sigmoid(output)\n",
    "\n",
    "###########################\n",
    "##  Build the graph      ##\n",
    "###########################\n",
    "\n",
    "batch_size=64\n",
    "g = tf.Graph()\n",
    "\n",
    "with g.as_default():\n",
    "    tf_X = tf.placeholder(shape=(batch_size, 100),\n",
    "                          dtype=tf.float32,\n",
    "                          name='tf_X')\n",
    "\n",
    "    ## build the generator\n",
    "    with tf.variable_scope('generator'):\n",
    "        gen_out1 = build_generator(data=tf_X,\n",
    "                                   n_hidden=50)\n",
    "\n",
    "    ## build the classifier\n",
    "    with tf.variable_scope('classifier') as scope:\n",
    "        ## classifier for the original data:\n",
    "        cls_out1 = build_classifier(data=tf_X,\n",
    "                                    labels=tf.ones(shape=batch_size))\n",
    "\n",
    "        ## reuse the classifier for generated data\n",
    "        scope.reuse_variables()\n",
    "        cls_out2 = build_classifier(data=gen_out1[1],\n",
    "                                    labels=tf.zeros(shape=batch_size))"
   ]
  },
  {
   "cell_type": "markdown",
   "metadata": {},
   "source": [
    "### Alternative implementation"
   ]
  },
  {
   "cell_type": "code",
   "execution_count": 26,
   "metadata": {},
   "outputs": [],
   "source": [
    "g = tf.Graph()\n",
    "\n",
    "with g.as_default():\n",
    "    tf_X = tf.placeholder(shape=(batch_size, 100),\n",
    "                          dtype=tf.float32,\n",
    "                          name='tf_X')\n",
    "    ## build the generator\n",
    "    with tf.variable_scope('generator'):\n",
    "        gen_out1 = build_generator(data=tf_X,\n",
    "                                   n_hidden=50)\n",
    "\n",
    "    ## build the classifier\n",
    "    with tf.variable_scope('classifier'):\n",
    "        ## classifier for the original data:\n",
    "        cls_out1 = build_classifier(data=tf_X,\n",
    "                                    labels=tf.ones(shape=batch_size))\n",
    "         \n",
    "    with tf.variable_scope('classifier', reuse=True):\n",
    "        ## reuse the classifier for generated data\n",
    "        cls_out2 = build_classifier(data=gen_out1[1],\n",
    "                                    labels=tf.zeros(shape=batch_size))"
   ]
  },
  {
   "cell_type": "markdown",
   "metadata": {
    "pycharm": {
     "name": "#%% md\n"
    }
   },
   "source": [
    "## Reshape rank-3 tensor, compute column sums and means"
   ]
  },
  {
   "cell_type": "code",
   "execution_count": 5,
   "metadata": {
    "pycharm": {
     "is_executing": false,
     "name": "#%%\n"
    }
   },
   "outputs": [
    {
     "name": "stdout",
     "output_type": "stream",
     "text": [
      "Input tensor:\n",
      "[[[ 0  1  2]\n",
      "  [ 3  4  5]]\n",
      "\n",
      " [[ 6  7  8]\n",
      "  [ 9 10 11]]\n",
      "\n",
      " [[12 13 14]\n",
      "  [15 16 17]]]\n",
      "Input shape:\n",
      "(3, 2, 3)\n",
      "Reshaped:\n",
      "[[ 0.  1.  2.  3.  4.  5.]\n",
      " [ 6.  7.  8.  9. 10. 11.]\n",
      " [12. 13. 14. 15. 16. 17.]]\n",
      "Reshaped shape\n",
      "(3, 6):\n",
      "Column sums:\n",
      "[18. 21. 24. 27. 30. 33.]\n",
      "Column means:\n",
      "[ 6.  7.  8.  9. 10. 11.]\n"
     ]
    }
   ],
   "source": [
    "g2 = tf.Graph()\n",
    "with g2.as_default():\n",
    "    # input tensor\n",
    "    x = tf.placeholder(dtype=tf.float32,\n",
    "                       shape=(None, 2, 3),\n",
    "                       name='input_x')\n",
    "    # reshape input\n",
    "    x2 = tf.reshape(x, shape=(-1, 6), name='x2')\n",
    "    # calculate the sum of each column\n",
    "    xsum = tf.reduce_sum(x2, axis=0, name='col_sum')\n",
    "    # calculate the mean of each column\n",
    "    xmean = tf.reduce_mean(x2, axis=0, name='col_mean')\n",
    "\n",
    "with tf.Session(graph=g2) as sess:\n",
    "    x_array = np.arange(18).reshape(3, 2, 3)\n",
    "    print(\"Input tensor:\\n{0}\\nInput shape:\\n{1}\".format(x_array, x_array.shape))\n",
    "    x_resh = sess.run(x2, feed_dict={x:x_array})\n",
    "    print(\"Reshaped:\\n{0}\\nReshaped shape\\n{1}:\".format(x_resh, x_resh.shape))\n",
    "    print(\"Column sums:\\n{0}\".format(sess.run(xsum, feed_dict={x:x_array})))\n",
    "    print(\"Column means:\\n{0}\".format(sess.run(xmean, feed_dict={x:x_array})))"
   ]
  },
  {
   "cell_type": "markdown",
   "metadata": {
    "pycharm": {
     "name": "#%% md\n"
    }
   },
   "source": [
    "## Ordinary Least Squares (OLS) regression\n",
    "Implementing a simple Ordinary Least Squares (OLD) OLS regression model:\n",
    "\n",
    "$ z = w \\times x + b $\n",
    "\n",
    "using the Mean of Squared Error (MSE) cost function:\n",
    "\n",
    "$ MSE = \\frac{1} {n} \\sum \\limits_{i=1}^n \\left( y_i - \\hat{y}_i \\right) ^2 $"
   ]
  },
  {
   "cell_type": "code",
   "execution_count": 27,
   "metadata": {},
   "outputs": [],
   "source": []
  },
  {
   "cell_type": "code",
   "execution_count": 12,
   "metadata": {},
   "outputs": [
    {
     "data": {
      "image/png": "[encoded data removed]",
      "text/plain": [
       "<Figure size 432x288 with 1 Axes>"
      ]
     },
     "metadata": {
      "needs_background": "light"
     },
     "output_type": "display_data"
    }
   ],
   "source": [
    "## create a random toy dataset for regression\n",
    " \n",
    "np.random.seed = 0\n",
    "\n",
    "def make_random_data():\n",
    "    x = np.random.uniform(low=-2, high=4, size=200)\n",
    "    y = []\n",
    "    for t in x:\n",
    "        r = np.random.normal(loc=0.0,\n",
    "                             scale=(0.5 + t*t/3),\n",
    "                             size=None)\n",
    "        y.append(r)\n",
    "    return  x, 1.726*x -0.84 + np.array(y)\n",
    "\n",
    "x, y = make_random_data()\n",
    "\n",
    "plt.plot(x, y, 'o')\n",
    "plt.show()"
   ]
  },
  {
   "cell_type": "code",
   "execution_count": 27,
   "metadata": {},
   "outputs": [],
   "source": [
    "## train/test splits\n",
    "x_train, y_train = x[:100], y[:100]\n",
    "x_test, y_test = x[100:], y[100:]"
   ]
  },
  {
   "cell_type": "markdown",
   "metadata": {},
   "source": [
    "### Optimizing using gradient descent"
   ]
  },
  {
   "cell_type": "code",
   "execution_count": 40,
   "metadata": {},
   "outputs": [],
   "source": [
    "# np.random.seed(123)\n",
    "g = tf.Graph()\n",
    "\n",
    "with g.as_default():\n",
    "    # tf.set_random_seed(123)\n",
    "    # placeholders\n",
    "    tf_x = tf.placeholder(shape=(None),\n",
    "                          dtype=tf.float32,\n",
    "                          name='tf_x')\n",
    "    tf_y = tf.placeholder(shape=(None),\n",
    "                          dtype=tf.float32,\n",
    "                          name='tf_y')\n",
    "    \n",
    "    # define the variable (model parameters)\n",
    "    weight = tf.Variable(tf.random_normal(shape=(1,1), \n",
    "                                          stddev=0.25), \n",
    "                         name='weight')\n",
    "    bias = tf.Variable(0.0, name='bias')\n",
    "    \n",
    "    # build the model\n",
    "    y_hat = tf.add(weight * tf_x, bias,\n",
    "                   name='y_hat')\n",
    "    \n",
    "    # compute the cost\n",
    "    cost = tf.reduce_mean(tf.square(tf_y - y_hat),\n",
    "                          name='cost')\n",
    "    \n",
    "    # train the model\n",
    "    optim = tf.train.GradientDescentOptimizer(learning_rate=0.05)\n",
    "    train_op = optim.minimize(cost, name='train_op')"
   ]
  },
  {
   "cell_type": "code",
   "execution_count": 43,
   "metadata": {},
   "outputs": [
    {
     "name": "stdout",
     "output_type": "stream",
     "text": [
      "Epoch    0: 20.1548\n",
      "Epoch    2: 5.1224\n",
      "Epoch    4: 4.1318\n",
      "Epoch    6: 3.9653\n",
      "Epoch    8: 3.8693\n",
      "Epoch   10: 3.7960\n",
      "Epoch   12: 3.7386\n",
      "Epoch   14: 3.6936\n",
      "Epoch   16: 3.6584\n",
      "Epoch   18: 3.6308\n"
     ]
    },
    {
     "data": {
      "image/png": "[encoded data removed]",
      "text/plain": [
       "<Figure size 432x288 with 1 Axes>"
      ]
     },
     "metadata": {
      "needs_background": "light"
     },
     "output_type": "display_data"
    }
   ],
   "source": [
    "n_epochs = 20\n",
    "training_costs = []\n",
    "with tf.Session(graph=g) as sess:\n",
    "    sess.run(tf.global_variables_initializer())\n",
    "\n",
    "    ## train the model for n_epochs\n",
    "    for e in range(n_epochs):\n",
    "        c, _ = sess.run([cost, train_op],\n",
    "                        feed_dict={tf_x: x_train,\n",
    "                                   tf_y: y_train})\n",
    "        training_costs.append(c)\n",
    "        if not e % 2:\n",
    "            print('Epoch %4d: %.4f' % (e, c))\n",
    "\n",
    "plt.plot(training_costs)\n",
    "plt.show()"
   ]
  },
  {
   "cell_type": "markdown",
   "metadata": {},
   "source": [
    "### Optimizing using Adam"
   ]
  },
  {
   "cell_type": "code",
   "execution_count": 48,
   "metadata": {
    "pycharm": {
     "name": "#%%\n"
    }
   },
   "outputs": [],
   "source": [
    "epochs = 20\n",
    "# np.random.seed(123)\n",
    "\n",
    "g = tf.Graph()\n",
    "with g.as_default():\n",
    "    # tf.set_random_seed(123)\n",
    "\n",
    "    # create the placeholders\n",
    "    x_ph = tf.placeholder(shape=[None,], dtype=tf.float32)\n",
    "    y_ph = tf.placeholder(shape=[None,], dtype=tf.float32)\n",
    "    \n",
    "    # create the variables\n",
    "    v_weight = tf.get_variable(\"weight\", shape=[1], dtype=tf.float32)\n",
    "    v_bias = tf.get_variable(\"bias\", shape=[1], dtype=tf.float32)\n",
    "    \n",
    "    # linear computation\n",
    "    out = v_weight * x_ph + v_bias\n",
    "    \n",
    "    # compute the mean squared error\n",
    "    loss = tf.reduce_mean((out - y_ph)**2)\n",
    "    \n",
    "    # initialize the optimizer\n",
    "    opt = tf.train.AdamOptimizer(0.05).minimize(loss)"
   ]
  },
  {
   "cell_type": "code",
   "execution_count": 49,
   "metadata": {},
   "outputs": [
    {
     "name": "stdout",
     "output_type": "stream",
     "text": [
      "Epoch: 0, MSE: 5.106358528137207, W: [1.2147585], b: [0.35307708]\n",
      "Epoch: 2, MSE: 4.710353851318359, W: [1.3141352], b: [0.2528317]\n",
      "Epoch: 4, MSE: 4.379493236541748, W: [1.4116983], b: [0.15196234]\n",
      "Epoch: 6, MSE: 4.113814353942871, W: [1.5059752], b: [0.05018518]\n",
      "Epoch: 8, MSE: 3.910634994506836, W: [1.5951651], b: [-0.05265072]\n",
      "Epoch: 10, MSE: 3.7640738487243652, W: [1.6772356], b: [-0.15650432]\n",
      "Epoch: 12, MSE: 3.665170669555664, W: [1.7501541], b: [-0.2610609]\n",
      "Epoch: 14, MSE: 3.6029748916625977, W: [1.8122402], b: [-0.36560708]\n",
      "Epoch: 16, MSE: 3.566566228866577, W: [1.8625344], b: [-0.46884513]\n",
      "Epoch: 18, MSE: 3.5472002029418945, W: [1.9010272], b: [-0.5686504]\n",
      "Final weight: [1.9161069], bias: [-0.61631536]\n"
     ]
    },
    {
     "data": {
      "image/png": "[encoded data removed]",
      "text/plain": [
       "<Figure size 432x288 with 1 Axes>"
      ]
     },
     "metadata": {
      "needs_background": "light"
     },
     "output_type": "display_data"
    }
   ],
   "source": [
    "# create a new session\n",
    "with tf.Session(graph=g) as sess:\n",
    "    # initialize variables\n",
    "    sess.run(tf.global_variables_initializer())\n",
    "    \n",
    "    # train the model\n",
    "    training_costs = []\n",
    "    for epoch in range(epochs):\n",
    "        # run the optimizer and get the loss\n",
    "        train_loss_, _ = sess.run([loss, opt], feed_dict={x_ph:x_train, y_ph: y_train})\n",
    "        training_costs.append(train_loss_)\n",
    "        \n",
    "        # print epoch number and loss\n",
    "        if epoch % 2 == 0:\n",
    "            print(\"Epoch: {0}, MSE: {1}, W: {2}, b: {3}\"\n",
    "                  .format(epoch, train_loss_, sess.run(v_weight), sess.run(v_bias)))\n",
    "            \n",
    "    print('Final weight: {0}, bias: {1}'.format(sess.run(v_weight), sess.run(v_bias)))\n",
    "plt.plot(training_costs)\n",
    "plt.show()"
   ]
  },
  {
   "cell_type": "markdown",
   "metadata": {
    "pycharm": {
     "name": "#%% md\n"
    }
   },
   "source": [
    "### Define the model as a Python class"
   ]
  },
  {
   "cell_type": "code",
   "execution_count": 8,
   "metadata": {
    "pycharm": {
     "is_executing": false,
     "name": "#%%\n"
    }
   },
   "outputs": [],
   "source": [
    "class TfLinreg(object):\n",
    "    def __init__(self, x_dim, learning_rate=0.01, random_seed=None):\n",
    "        self.x_dim = x_dim\n",
    "        self.learning_rate = learning_rate\n",
    "        self.g = tf.Graph()\n",
    "        # build the model\n",
    "        with self.g.as_default():\n",
    "            # set graph-level random seed\n",
    "            tf.set_random_seed(random_seed)\n",
    "            \n",
    "            self.build()\n",
    "            # create initializer\n",
    "            self.init_op = tf.global_variables_initializer()\n",
    "    \n",
    "    def build(self):\n",
    "        # define placeholders for inputs\n",
    "        self.X = tf.placeholder(dtype=tf.float32,\n",
    "                                shape=(None),\n",
    "                                name='x_input')\n",
    "        self.y = tf.placeholder(dtype=tf.float32,\n",
    "                                shape=(None),\n",
    "                                name='y_input')\n",
    "        print(self.X)\n",
    "        print(self.y)\n",
    "        # define weight matrix and bias vector\n",
    "        w = tf.Variable(tf.zeros(shape=(1)), name='weight')\n",
    "        b = tf.Variable(tf.zeros(shape=(1)), name='bias')\n",
    "        print(w)\n",
    "        print(b)\n",
    "        \n",
    "        self.z_net = tf.squeeze(w * self.X + b, name='z_net')\n",
    "        print(self.z_net)\n",
    "        # compute squared errors\n",
    "        sqr_errors = tf.square(self.y - self.z_net, name='sqr_errors')\n",
    "        print(sqr_errors)\n",
    "        # compute mean cost\n",
    "        self.mean_cost = tf.reduce_mean(sqr_errors, name='mean_cost')\n",
    "        \n",
    "        optimizer = tf.train.GradientDescentOptimizer(\n",
    "            learning_rate=self.learning_rate,\n",
    "            name = 'GradientDescent'\n",
    "        )\n",
    "        \n",
    "        self.optimizer = optimizer.minimize(self.mean_cost)\n",
    "        "
   ]
  },
  {
   "cell_type": "markdown",
   "metadata": {
    "pycharm": {
     "name": "#%% md\n"
    }
   },
   "source": [
    "### Train the model"
   ]
  },
  {
   "cell_type": "code",
   "execution_count": 9,
   "metadata": {
    "pycharm": {
     "is_executing": false,
     "name": "#%%\n"
    }
   },
   "outputs": [
    {
     "name": "stdout",
     "output_type": "stream",
     "text": [
      "Tensor(\"x_input:0\", dtype=float32)\n",
      "Tensor(\"y_input:0\", dtype=float32)\n",
      "<tf.Variable 'weight:0' shape=(1,) dtype=float32_ref>\n",
      "<tf.Variable 'bias:0' shape=(1,) dtype=float32_ref>\n",
      "Net input: Tensor(\"z_net:0\", dtype=float32)\n",
      "Squared errors: Tensor(\"sqr_errors:0\", dtype=float32)\n"
     ]
    }
   ],
   "source": [
    "X_train = np.arange(10).reshape((10, 1))\n",
    "y_train = np.array([1.0, 1.3, 3.1,\n",
    "                   2.0, 5.0, 6.3,\n",
    "                   6.6, 7.4, 8.0, 9.0])\n",
    "       \n",
    "lrmodel = TfLinreg(x_dim=X_train.shape[1], learning_rate=0.01)"
   ]
  },
  {
   "cell_type": "code",
   "execution_count": 10,
   "metadata": {
    "pycharm": {
     "is_executing": false,
     "name": "#%%\n"
    }
   },
   "outputs": [],
   "source": [
    "def train_linreg(sess, model, X_train, y_train, num_epochs=10):\n",
    "    # initialize all variables: W and b\n",
    "    sess.run(model.init_op)\n",
    "    \n",
    "    training_costs = []\n",
    "    for i in range(num_epochs):\n",
    "        _, cost = sess.run([model.optimizer, model.mean_cost],\n",
    "                           feed_dict={model.X: X_train,\n",
    "                                      model.y: y_train})\n",
    "        training_costs.append(cost)\n",
    "    \n",
    "    return training_costs"
   ]
  },
  {
   "cell_type": "code",
   "execution_count": 11,
   "metadata": {
    "pycharm": {
     "is_executing": false,
     "name": "#%%\n"
    }
   },
   "outputs": [
    {
     "name": "stdout",
     "output_type": "stream",
     "text": [
      "Model fit\n"
     ]
    }
   ],
   "source": [
    "sess = tf.Session(graph=lrmodel.g)\n",
    "training_costs = train_linreg(sess, lrmodel, X_train, y_train)\n",
    "print(\"Model fit\")"
   ]
  },
  {
   "cell_type": "code",
   "execution_count": 13,
   "metadata": {
    "pycharm": {
     "is_executing": false,
     "name": "#%%\n"
    }
   },
   "outputs": [
    {
     "data": {
      "image/png": "[encoded data removed]",
      "text/plain": [
       "<Figure size 432x288 with 1 Axes>"
      ]
     },
     "metadata": {
      "needs_background": "light"
     },
     "output_type": "display_data"
    }
   ],
   "source": [
    "plt.plot(range(1,len(training_costs) + 1), training_costs)\n",
    "plt.tight_layout()\n",
    "plt.xlabel('Epoch')\n",
    "plt.ylabel('Training Cost')\n",
    "plt.show()"
   ]
  },
  {
   "cell_type": "markdown",
   "metadata": {
    "pycharm": {
     "name": "#%% md\n"
    }
   },
   "source": [
    "### Use the model to make predictions"
   ]
  },
  {
   "cell_type": "code",
   "execution_count": 14,
   "metadata": {
    "pycharm": {
     "is_executing": false,
     "name": "#%%\n"
    }
   },
   "outputs": [],
   "source": [
    "def predict_linreg(sess, model, X_test):\n",
    "    y_pred = sess.run(model.z_net, feed_dict={model.X: X_test})\n",
    "    return y_pred"
   ]
  },
  {
   "cell_type": "code",
   "execution_count": 15,
   "metadata": {
    "pycharm": {
     "is_executing": false,
     "name": "#%%\n"
    }
   },
   "outputs": [
    {
     "data": {
      "image/png": "[encoded data removed]",
      "text/plain": [
       "<Figure size 432x288 with 1 Axes>"
      ]
     },
     "metadata": {
      "needs_background": "light"
     },
     "output_type": "display_data"
    }
   ],
   "source": [
    "plt.scatter(X_train, y_train,\n",
    "            marker='s', s=50,\n",
    "            label='Training Data')\n",
    "plt.plot(range(X_train.shape[0]),\n",
    "         predict_linreg(sess, lrmodel, X_train),\n",
    "         color='gray', marker='o',\n",
    "         markersize=6, linewidth=3,\n",
    "         label='LinReg Model')\n",
    "plt.xlabel('x')\n",
    "plt.ylabel('y')\n",
    "plt.legend()\n",
    "plt.tight_layout()\n",
    "plt.show()\n"
   ]
  },
  {
   "cell_type": "markdown",
   "metadata": {},
   "source": [
    "## Computing a discrete convolution in a single dimension\n",
    "A discrete convolution for two one-dimensional vectors $\\boldsymbol{x}$ and $\\boldsymbol{w}$ is denoted by $\\boldsymbol{y} = \\boldsymbol{x} * \\boldsymbol{w}$, in which vector $\\boldsymbol{x}$ is the input (sometimes called signal) and $\\boldsymbol{w}$ is called the filter or kernel.\n",
    "\n",
    "$ \\large{ \\boldsymbol{y} = \\boldsymbol{x} * \\boldsymbol{w} \\to \\boldsymbol{y} \\left[ i \\right] \\sum \\limits_{k = - \\infty}^{+ \\infty} \\boldsymbol{x} \\left[ i - k \\right] \\boldsymbol{w} \\left[ k \\right] } $\n",
    "\n",
    "Let's assume that the original input $\\boldsymbol{x}$ and filter $\\boldsymbol{w}$ have $n$ and $m$ elements, respectively, where $m \\leq n$. Therefore, the padded vector $\\boldsymbol{x}^p$ has the size $n + 2p$. Then, the practical formula for computing a discrete convolution will change to the following:\n",
    "\n",
    "$ \\large{ \\boldsymbol{y} = \\boldsymbol{x} * \\boldsymbol{w} \\to \\boldsymbol{y}\\left[i\\right] = \\sum \\limits_{k=0}^{k=m-1} \\boldsymbol{x}^p \\left[ i + m - k \\right] \\boldsymbol{w}[k] } $\n",
    "\n",
    "Since in this summation $\\boldsymbol{x}$ and $\\boldsymbol{w}$ are indexed in the opposite direction, we can flip one of this vectors after they are padded and simply compute their dot product.\n",
    "\n",
    "If we flip the filter $\\boldsymbol{w}$ to get the rotated filter $\\boldsymbol{w}^r$, the dot product $\\boldsymbol{x} \\left[i:i+m\\right].\\boldsymbol{w}^r$ is computed to get one element $\\boldsymbol{y}\\left[i\\right]$, where $\\boldsymbol{x}\\left[i:i+m\\right]$ is a patch of $\\boldsymbol{x}$ with size $m$. \n",
    "\n",
    "The operation is repeated like a sliding window approach to get all the output elements. The shift, or stride $s$, of the rotated filter $\\boldsymbol{w}^r$ is another hyperparameter of a convolution.\n",
    "\n",
    "The output size of a convolution is determined by the total number of times that we shift the filter $\\boldsymbol{w}$ along the input vector. If the input vector has the size $n$ and the filter is of the size $m$, then the output resulting from convolition $\\boldsymbol{x}*\\boldsymbol{w}$ with padding $p$ and stride $s$ can be determined as follows:\n",
    "\n",
    "$ \\large{ o = \\lfloor \\frac{n + 2p - m} {s} \\rfloor } $\n",
    "\n",
    "For example, for an input vector with size 10, with a convolution kernel of size 5, padding 2 and stride 1:\n",
    "\n",
    "$ \\large{ n=10, m=5, p=2, s=1 \\to o = \\lfloor \\frac{10 + 2 \\times 2 - 5} {1} \\rfloor } + 1 = 10 $"
   ]
  },
  {
   "cell_type": "code",
   "execution_count": 15,
   "metadata": {},
   "outputs": [],
   "source": [
    "def conv1d(x, w, p=0, s=1):\n",
    "    w_rot = np.array(w[::-1])\n",
    "    x_padded = np.array(x)\n",
    "    if p > 0:\n",
    "        zero_pad = np.zeros(shape=p)\n",
    "        x_padded = np.concatenate([zero_pad,\n",
    "                                   x_padded,\n",
    "                                   zero_pad])\n",
    "    res = []\n",
    "    for i in range(0, int(len(x) / s), s):\n",
    "        res.append(np.sum(x_padded[i:i+w_rot.shape[0]] * w_rot))\n",
    "    \n",
    "    return np.array(res)"
   ]
  },
  {
   "cell_type": "code",
   "execution_count": 16,
   "metadata": {},
   "outputs": [],
   "source": [
    "## Testing:\n",
    "x = [1, 3, 2, 4, 5, 6, 1, 3]\n",
    "w = [1, 0, 3, 1, 2]"
   ]
  },
  {
   "cell_type": "code",
   "execution_count": 17,
   "metadata": {},
   "outputs": [
    {
     "name": "stdout",
     "output_type": "stream",
     "text": [
      "Conv1d Implementation: [ 5. 14. 16. 26. 24. 34. 19. 22.]\n"
     ]
    }
   ],
   "source": [
    "print('Conv1d Implementation:', conv1d(x, w, p=2, s=1))"
   ]
  },
  {
   "cell_type": "code",
   "execution_count": 18,
   "metadata": {},
   "outputs": [
    {
     "name": "stdout",
     "output_type": "stream",
     "text": [
      "Numpy Results: [ 5 14 16 26 24 34 19 22]\n"
     ]
    }
   ],
   "source": [
    "print('Numpy Results:', \n",
    "np.convolve(x, w, mode='same'))"
   ]
  },
  {
   "cell_type": "markdown",
   "metadata": {},
   "source": [
    "## Computing a discrete convolution in two dimensions\n",
    "The concepts of computing a discrete convolution in a single dimension are easily extensible to two dimensions. In case of a two-dimensional input, such as a matrix $\\large{\\boldsymbol{X}_{n_1 \\times n_2}}$ and the filter matrix $\\large{\\boldsymbol{W}_{m_1 \\times m_2}}$, where $m_1 \\leq n_1$ and $m_2 \\leq n_2$, then the matrix $\\boldsymbol{Y} = \\boldsymbol{X} * \\boldsymbol{W}$ is the result of 2D convolution of $\\boldsymbol{X}$ with $\\boldsymbol{W}$. This is mathematically defined as follows:\n",
    "\n",
    "$ \\large{ \\boldsymbol{Y} = \\boldsymbol{X} * \\boldsymbol{W} \\to \\boldsymbol{Y} \\left[ i, j \\right] = \\sum \\limits_{k_1= -\\infty}^{+ \\infty} } \\sum \\limits_{k_2 = - \\infty }^{+ \\infty} \\boldsymbol{X} \\left[ i - k_1, j - k_2 \\right] \\boldsymbol{W} \\left[ k_1, k_2 \\right] $\n",
    "\n",
    "Notice that if you omit one of the dimensions, the remaining formula is exactly the same as the one we used previously to compute the convolution in 1D. In fact, all the previously mentioned techniques, such as zero-padding, rotating the filter matrix, and the use of strides, are also applicable to 2D convolutions, provided that they are extended to both the dimensions independently."
   ]
  },
  {
   "cell_type": "code",
   "execution_count": 19,
   "metadata": {},
   "outputs": [],
   "source": [
    "def conv2d(X, W, p=(0, 0), s=(1, 1)):\n",
    "    W_rot = np.array(W)[::-1, ::-1] # notice that rotation is NOT the same as the transpose matrix\n",
    "    X_orig = np.array(X)\n",
    "    n1 = X_orig.shape[0] + 2 * p[0] # size of the input matrix with zero-padding\n",
    "    n2 = X_orig.shape[1] + 2 * p[1] # size of the input matrix with zero-padding\n",
    "    X_padded = np.zeros(shape=(n1, n2))\n",
    "    X_padded[p[0]:p[0]+X_orig.shape[0],\n",
    "             p[1]:p[1]+X_orig.shape[1]] = X_orig\n",
    "    res = []\n",
    "    for i in range(0, int((X_padded.shape[0] - \\\n",
    "                           W_rot.shape[0])/s[0])+1, s[0]):\n",
    "        res.append([])\n",
    "        for j in range(0, int((X_padded.shape[1] - \\\n",
    "                               W_rot.shape[1])/s[1])+1, s[1]):\n",
    "            X_sub = X_padded[i:i+W_rot.shape[0],\n",
    "                             j:j+W_rot.shape[1]]\n",
    "            res[-1].append(np.sum(X_sub * W_rot))\n",
    "    return(np.array(res))"
   ]
  },
  {
   "cell_type": "code",
   "execution_count": 20,
   "metadata": {},
   "outputs": [],
   "source": [
    "X = [[1, 3, 2, 4], [5, 6, 1, 3], [1, 2, 0, 2], [3, 4, 3, 2]]\n",
    "W = [[1, 0, 3], [1, 2, 1], [0, 1, 1]]"
   ]
  },
  {
   "cell_type": "code",
   "execution_count": 21,
   "metadata": {},
   "outputs": [
    {
     "name": "stdout",
     "output_type": "stream",
     "text": [
      "Conv2d Implementation:\n",
      " [[11. 25. 32. 13.]\n",
      " [19. 25. 24. 13.]\n",
      " [13. 28. 25. 17.]\n",
      " [11. 17. 14.  9.]]\n"
     ]
    }
   ],
   "source": [
    "print('Conv2d Implementation:\\n',\n",
    "      conv2d(X, W, p=(1, 1), s=(1, 1)))"
   ]
  },
  {
   "cell_type": "code",
   "execution_count": 22,
   "metadata": {},
   "outputs": [
    {
     "name": "stdout",
     "output_type": "stream",
     "text": [
      "SciPy Results:\n",
      " [[11 25 32 13]\n",
      " [19 25 24 13]\n",
      " [13 28 25 17]\n",
      " [11 17 14  9]]\n"
     ]
    }
   ],
   "source": [
    "import scipy.signal\n",
    "\n",
    "print('SciPy Results:\\n', \n",
    "      scipy.signal.convolve2d(X, W, mode='same'))"
   ]
  },
  {
   "cell_type": "markdown",
   "metadata": {},
   "source": [
    "## Deep convolutional neural network using TensorFlow"
   ]
  },
  {
   "cell_type": "code",
   "execution_count": null,
   "metadata": {},
   "outputs": [],
   "source": []
  },
  {
   "cell_type": "markdown",
   "metadata": {},
   "source": [
    "## Monitoring variables and metrics using TensorBoard"
   ]
  },
  {
   "cell_type": "code",
   "execution_count": null,
   "metadata": {},
   "outputs": [],
   "source": []
  }
 ],
 "metadata": {
  "kernelspec": {
   "display_name": "Python 3",
   "language": "python",
   "name": "python3"
  },
  "language_info": {
   "codemirror_mode": {
    "name": "ipython",
    "version": 3
   },
   "file_extension": ".py",
   "mimetype": "text/x-python",
   "name": "python",
   "nbconvert_exporter": "python",
   "pygments_lexer": "ipython3",
   "version": "3.7.5"
  },
  "pycharm": {
   "stem_cell": {
    "cell_type": "raw",
    "metadata": {
     "collapsed": false
    },
    "source": []
   }
  }
 },
 "nbformat": 4,
 "nbformat_minor": 1
}
